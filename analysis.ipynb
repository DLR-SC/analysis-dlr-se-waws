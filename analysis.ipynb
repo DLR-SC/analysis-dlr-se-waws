{
 "cells": [
  {
   "cell_type": "markdown",
   "metadata": {},
   "source": [
    "# Analysis of the DLR Knowledge Exchange Workshop Series on Software Engineering\n",
    "The following Jupyter notebook gives an overview about the five different workshops and participants since 2014. First, we show a basic overview about the workshop and the participant data. Then, we identify the two main groups and check their attendance behavior for every workshop. Finally, we consider how many participants attended the next workshop."
   ]
  },
  {
   "cell_type": "markdown",
   "metadata": {},
   "source": [
    "## Basic overview\n",
    "### Workshop data\n",
    "The following data set contains the basic information about every workshop including its main topic, date, location, and number of participants. In addition, we calculate the total number of workshop series participants and the average number of participants."
   ]
  },
  {
   "cell_type": "code",
   "execution_count": 1,
   "metadata": {},
   "outputs": [
    {
     "name": "stdout",
     "output_type": "stream",
     "text": [
      "Total number of participants: 265\n",
      "Average number of participants: 53.0\n"
     ]
    },
    {
     "data": {
      "text/html": [
       "<div>\n",
       "<style scoped>\n",
       "    .dataframe tbody tr th:only-of-type {\n",
       "        vertical-align: middle;\n",
       "    }\n",
       "\n",
       "    .dataframe tbody tr th {\n",
       "        vertical-align: top;\n",
       "    }\n",
       "\n",
       "    .dataframe thead th {\n",
       "        text-align: right;\n",
       "    }\n",
       "</style>\n",
       "<table border=\"1\" class=\"dataframe\">\n",
       "  <thead>\n",
       "    <tr style=\"text-align: right;\">\n",
       "      <th></th>\n",
       "      <th>topic</th>\n",
       "      <th>date</th>\n",
       "      <th>location</th>\n",
       "      <th>num_participants</th>\n",
       "    </tr>\n",
       "    <tr>\n",
       "      <th>id</th>\n",
       "      <th></th>\n",
       "      <th></th>\n",
       "      <th></th>\n",
       "      <th></th>\n",
       "    </tr>\n",
       "  </thead>\n",
       "  <tbody>\n",
       "    <tr>\n",
       "      <th>0</th>\n",
       "      <td>kick-off</td>\n",
       "      <td>November 2014</td>\n",
       "      <td>Braunschweig</td>\n",
       "      <td>57</td>\n",
       "    </tr>\n",
       "    <tr>\n",
       "      <th>1</th>\n",
       "      <td>tools and processes</td>\n",
       "      <td>April 2015</td>\n",
       "      <td>Cologne</td>\n",
       "      <td>56</td>\n",
       "    </tr>\n",
       "    <tr>\n",
       "      <th>2</th>\n",
       "      <td>open and inner Source</td>\n",
       "      <td>April 2016</td>\n",
       "      <td>Oberpfaffenhofen</td>\n",
       "      <td>53</td>\n",
       "    </tr>\n",
       "    <tr>\n",
       "      <th>3</th>\n",
       "      <td>software architecture</td>\n",
       "      <td>April 2017</td>\n",
       "      <td>Berlin</td>\n",
       "      <td>52</td>\n",
       "    </tr>\n",
       "    <tr>\n",
       "      <th>4</th>\n",
       "      <td>embedded systems</td>\n",
       "      <td>May 2018</td>\n",
       "      <td>Bremen</td>\n",
       "      <td>47</td>\n",
       "    </tr>\n",
       "  </tbody>\n",
       "</table>\n",
       "</div>"
      ],
      "text/plain": [
       "                    topic           date          location  num_participants\n",
       "id                                                                          \n",
       "0                kick-off  November 2014      Braunschweig                57\n",
       "1     tools and processes     April 2015           Cologne                56\n",
       "2   open and inner Source     April 2016  Oberpfaffenhofen                53\n",
       "3   software architecture     April 2017            Berlin                52\n",
       "4        embedded systems       May 2018            Bremen                47"
      ]
     },
     "execution_count": 1,
     "metadata": {},
     "output_type": "execute_result"
    }
   ],
   "source": [
    "import pandas as pd\n",
    "\n",
    "workshops = pd.read_csv(\"data/workshops.csv\", index_col=\"id\")\n",
    "total_num_participants = workshops.num_participants.sum()\n",
    "average_num_participants = total_num_participants / len(workshops)\n",
    "\n",
    "print(\"Total number of participants:\", total_num_participants)\n",
    "print(\"Average number of participants:\", average_num_participants)\n",
    "workshops.head(5)"
   ]
  },
  {
   "cell_type": "markdown",
   "metadata": {},
   "source": [
    "### Participant data\n",
    "The participant data has been pre-processed as follows:\n",
    "- The basis formed the registration lists which have been further cleaned up by removing duplicates and double-checking them with the available attendance lists.\n",
    "- The data has been anonymized by removing the participants names.\n",
    "- Specific helper fields have been calculated to support the later analysis.\n",
    "\n",
    "The resulting data set only contains the unique participants of the workshop series. I.e., every entry represents an unique particpant and indicates the total number of workshops visited, the specific workshops visisted, if the participant still works for the DLR and whether we consider the particpant a non-regular visitor. The last field (non-regular) indicates whether the participant visited more than one workshop but skipped more than one workshop in a row while still working at DLR. The field is later used to differentiate the core participant group."
   ]
  },
  {
   "cell_type": "code",
   "execution_count": 2,
   "metadata": {},
   "outputs": [
    {
     "name": "stdout",
     "output_type": "stream",
     "text": [
      "Total number of unique participants: 189\n"
     ]
    },
    {
     "data": {
      "text/html": [
       "<div>\n",
       "<style scoped>\n",
       "    .dataframe tbody tr th:only-of-type {\n",
       "        vertical-align: middle;\n",
       "    }\n",
       "\n",
       "    .dataframe tbody tr th {\n",
       "        vertical-align: top;\n",
       "    }\n",
       "\n",
       "    .dataframe thead th {\n",
       "        text-align: right;\n",
       "    }\n",
       "</style>\n",
       "<table border=\"1\" class=\"dataframe\">\n",
       "  <thead>\n",
       "    <tr style=\"text-align: right;\">\n",
       "      <th></th>\n",
       "      <th>num_workshops_visited</th>\n",
       "      <th>1</th>\n",
       "      <th>2</th>\n",
       "      <th>3</th>\n",
       "      <th>4</th>\n",
       "      <th>5</th>\n",
       "      <th>currently_works_for_DLR</th>\n",
       "      <th>non_regular</th>\n",
       "    </tr>\n",
       "    <tr>\n",
       "      <th>id</th>\n",
       "      <th></th>\n",
       "      <th></th>\n",
       "      <th></th>\n",
       "      <th></th>\n",
       "      <th></th>\n",
       "      <th></th>\n",
       "      <th></th>\n",
       "      <th></th>\n",
       "    </tr>\n",
       "  </thead>\n",
       "  <tbody>\n",
       "    <tr>\n",
       "      <th>0</th>\n",
       "      <td>5</td>\n",
       "      <td>True</td>\n",
       "      <td>True</td>\n",
       "      <td>True</td>\n",
       "      <td>True</td>\n",
       "      <td>True</td>\n",
       "      <td>True</td>\n",
       "      <td>False</td>\n",
       "    </tr>\n",
       "    <tr>\n",
       "      <th>1</th>\n",
       "      <td>5</td>\n",
       "      <td>True</td>\n",
       "      <td>True</td>\n",
       "      <td>True</td>\n",
       "      <td>True</td>\n",
       "      <td>True</td>\n",
       "      <td>True</td>\n",
       "      <td>False</td>\n",
       "    </tr>\n",
       "    <tr>\n",
       "      <th>2</th>\n",
       "      <td>5</td>\n",
       "      <td>True</td>\n",
       "      <td>True</td>\n",
       "      <td>True</td>\n",
       "      <td>True</td>\n",
       "      <td>True</td>\n",
       "      <td>True</td>\n",
       "      <td>False</td>\n",
       "    </tr>\n",
       "    <tr>\n",
       "      <th>3</th>\n",
       "      <td>5</td>\n",
       "      <td>True</td>\n",
       "      <td>True</td>\n",
       "      <td>True</td>\n",
       "      <td>True</td>\n",
       "      <td>True</td>\n",
       "      <td>True</td>\n",
       "      <td>False</td>\n",
       "    </tr>\n",
       "    <tr>\n",
       "      <th>4</th>\n",
       "      <td>5</td>\n",
       "      <td>True</td>\n",
       "      <td>True</td>\n",
       "      <td>True</td>\n",
       "      <td>True</td>\n",
       "      <td>True</td>\n",
       "      <td>True</td>\n",
       "      <td>False</td>\n",
       "    </tr>\n",
       "    <tr>\n",
       "      <th>5</th>\n",
       "      <td>5</td>\n",
       "      <td>True</td>\n",
       "      <td>True</td>\n",
       "      <td>True</td>\n",
       "      <td>True</td>\n",
       "      <td>True</td>\n",
       "      <td>True</td>\n",
       "      <td>False</td>\n",
       "    </tr>\n",
       "    <tr>\n",
       "      <th>6</th>\n",
       "      <td>4</td>\n",
       "      <td>False</td>\n",
       "      <td>True</td>\n",
       "      <td>True</td>\n",
       "      <td>True</td>\n",
       "      <td>True</td>\n",
       "      <td>True</td>\n",
       "      <td>False</td>\n",
       "    </tr>\n",
       "    <tr>\n",
       "      <th>7</th>\n",
       "      <td>4</td>\n",
       "      <td>True</td>\n",
       "      <td>True</td>\n",
       "      <td>True</td>\n",
       "      <td>False</td>\n",
       "      <td>True</td>\n",
       "      <td>True</td>\n",
       "      <td>False</td>\n",
       "    </tr>\n",
       "    <tr>\n",
       "      <th>8</th>\n",
       "      <td>4</td>\n",
       "      <td>True</td>\n",
       "      <td>True</td>\n",
       "      <td>True</td>\n",
       "      <td>True</td>\n",
       "      <td>False</td>\n",
       "      <td>False</td>\n",
       "      <td>False</td>\n",
       "    </tr>\n",
       "    <tr>\n",
       "      <th>9</th>\n",
       "      <td>4</td>\n",
       "      <td>True</td>\n",
       "      <td>True</td>\n",
       "      <td>False</td>\n",
       "      <td>True</td>\n",
       "      <td>True</td>\n",
       "      <td>True</td>\n",
       "      <td>False</td>\n",
       "    </tr>\n",
       "  </tbody>\n",
       "</table>\n",
       "</div>"
      ],
      "text/plain": [
       "    num_workshops_visited      1     2      3      4      5  \\\n",
       "id                                                            \n",
       "0                       5   True  True   True   True   True   \n",
       "1                       5   True  True   True   True   True   \n",
       "2                       5   True  True   True   True   True   \n",
       "3                       5   True  True   True   True   True   \n",
       "4                       5   True  True   True   True   True   \n",
       "5                       5   True  True   True   True   True   \n",
       "6                       4  False  True   True   True   True   \n",
       "7                       4   True  True   True  False   True   \n",
       "8                       4   True  True   True   True  False   \n",
       "9                       4   True  True  False   True   True   \n",
       "\n",
       "    currently_works_for_DLR  non_regular  \n",
       "id                                        \n",
       "0                      True        False  \n",
       "1                      True        False  \n",
       "2                      True        False  \n",
       "3                      True        False  \n",
       "4                      True        False  \n",
       "5                      True        False  \n",
       "6                      True        False  \n",
       "7                      True        False  \n",
       "8                     False        False  \n",
       "9                      True        False  "
      ]
     },
     "execution_count": 2,
     "metadata": {},
     "output_type": "execute_result"
    }
   ],
   "source": [
    "participants = pd.read_csv(\"data/participants.csv\", index_col=\"id\")\n",
    "total_unique_participants = len(participants)\n",
    "\n",
    "print(\"Total number of unique participants:\", total_unique_participants)\n",
    "participants.head(10)"
   ]
  },
  {
   "cell_type": "markdown",
   "metadata": {},
   "source": [
    "### Location Data\n",
    "The location data for each workshop lists for each particpant it's location of origin as well as if this was the only workshop he or she attended. The data has been anonymized by removing the participants names. The id's used are not related to each other or the id's of the participant data set."
   ]
  },
  {
   "cell_type": "code",
   "execution_count": 3,
   "metadata": {},
   "outputs": [
    {
     "name": "stdout",
     "output_type": "stream",
     "text": [
      "Unique locations from which people attended the workshop series: 16\n"
     ]
    },
    {
     "data": {
      "text/html": [
       "<div>\n",
       "<style scoped>\n",
       "    .dataframe tbody tr th:only-of-type {\n",
       "        vertical-align: middle;\n",
       "    }\n",
       "\n",
       "    .dataframe tbody tr th {\n",
       "        vertical-align: top;\n",
       "    }\n",
       "\n",
       "    .dataframe thead th {\n",
       "        text-align: right;\n",
       "    }\n",
       "</style>\n",
       "<table border=\"1\" class=\"dataframe\">\n",
       "  <thead>\n",
       "    <tr style=\"text-align: right;\">\n",
       "      <th></th>\n",
       "      <th></th>\n",
       "      <th>location</th>\n",
       "      <th>one_time_participant</th>\n",
       "    </tr>\n",
       "    <tr>\n",
       "      <th></th>\n",
       "      <th>id</th>\n",
       "      <th></th>\n",
       "      <th></th>\n",
       "    </tr>\n",
       "  </thead>\n",
       "  <tbody>\n",
       "    <tr>\n",
       "      <th rowspan=\"10\" valign=\"top\">BS</th>\n",
       "      <th>0</th>\n",
       "      <td>GO</td>\n",
       "      <td>False</td>\n",
       "    </tr>\n",
       "    <tr>\n",
       "      <th>1</th>\n",
       "      <td>OP</td>\n",
       "      <td>False</td>\n",
       "    </tr>\n",
       "    <tr>\n",
       "      <th>2</th>\n",
       "      <td>BS</td>\n",
       "      <td>False</td>\n",
       "    </tr>\n",
       "    <tr>\n",
       "      <th>3</th>\n",
       "      <td>BA</td>\n",
       "      <td>False</td>\n",
       "    </tr>\n",
       "    <tr>\n",
       "      <th>4</th>\n",
       "      <td>BS</td>\n",
       "      <td>True</td>\n",
       "    </tr>\n",
       "    <tr>\n",
       "      <th>5</th>\n",
       "      <td>BA</td>\n",
       "      <td>False</td>\n",
       "    </tr>\n",
       "    <tr>\n",
       "      <th>6</th>\n",
       "      <td>OP</td>\n",
       "      <td>True</td>\n",
       "    </tr>\n",
       "    <tr>\n",
       "      <th>7</th>\n",
       "      <td>BA</td>\n",
       "      <td>False</td>\n",
       "    </tr>\n",
       "    <tr>\n",
       "      <th>8</th>\n",
       "      <td>BS</td>\n",
       "      <td>True</td>\n",
       "    </tr>\n",
       "    <tr>\n",
       "      <th>9</th>\n",
       "      <td>BS</td>\n",
       "      <td>False</td>\n",
       "    </tr>\n",
       "  </tbody>\n",
       "</table>\n",
       "</div>"
      ],
      "text/plain": [
       "      location  one_time_participant\n",
       "   id                               \n",
       "BS 0        GO                 False\n",
       "   1        OP                 False\n",
       "   2        BS                 False\n",
       "   3        BA                 False\n",
       "   4        BS                  True\n",
       "   5        BA                 False\n",
       "   6        OP                  True\n",
       "   7        BA                 False\n",
       "   8        BS                  True\n",
       "   9        BS                 False"
      ]
     },
     "execution_count": 3,
     "metadata": {},
     "output_type": "execute_result"
    }
   ],
   "source": [
    "locations_ws1 = pd.read_csv(\"data/ws1_location.csv\", index_col=\"id\")\n",
    "locations_ws2 = pd.read_csv(\"data/ws2_location.csv\", index_col=\"id\")\n",
    "locations_ws3 = pd.read_csv(\"data/ws3_location.csv\", index_col=\"id\")\n",
    "locations_ws4 = pd.read_csv(\"data/ws4_location.csv\", index_col=\"id\")\n",
    "locations_ws5 = pd.read_csv(\"data/ws5_location.csv\", index_col=\"id\")\n",
    "\n",
    "locations = pd.concat([locations_ws1, locations_ws2, locations_ws3, locations_ws4, locations_ws5], keys=['BS', 'KP', 'OP', 'BA', 'HB'])\n",
    "\n",
    "# Amount of unique locations from which people attended\n",
    "unique_locations = locations[\"location\"].drop_duplicates().count()\n",
    "print (\"Unique locations from which people attended the workshop series:\", unique_locations)\n",
    "locations.head(10)"
   ]
  },
  {
   "cell_type": "markdown",
   "metadata": {},
   "source": [
    "## Analysis of the attendance behavior"
   ]
  },
  {
   "cell_type": "markdown",
   "metadata": {},
   "source": [
    "### Definition of the core group\n",
    "We consider participants that continually attend the workshops as part of the core group. We include participants into this group, if:\n",
    "- they attended more than one workshop and\n",
    "- did not skip more than one workshop in a row while still working at DLR."
   ]
  },
  {
   "cell_type": "code",
   "execution_count": 4,
   "metadata": {},
   "outputs": [
    {
     "name": "stdout",
     "output_type": "stream",
     "text": [
      "Number of participants visiting more than one workshop: 40\n",
      "Number of core group members: 30\n",
      "Number of non-regular visitors: 10\n"
     ]
    }
   ],
   "source": [
    "participants_more_one_workshop = participants[participants.num_workshops_visited > 1]\n",
    "num_participants_more_one_workshop = len(participants_more_one_workshop)\n",
    "core_group = participants_more_one_workshop[participants_more_one_workshop.non_regular == False] # See definition of non_regular\n",
    "num_core_group = len(core_group)\n",
    "\n",
    "print(\"Number of participants visiting more than one workshop:\", num_participants_more_one_workshop)\n",
    "print(\"Number of core group members:\", num_core_group)\n",
    "print(\"Number of non-regular visitors:\", num_participants_more_one_workshop - num_core_group)"
   ]
  },
  {
   "cell_type": "markdown",
   "metadata": {},
   "source": [
    "### Definition of the group of one-time participants\n",
    "One-time participants are participants attending only one workshop."
   ]
  },
  {
   "cell_type": "code",
   "execution_count": 5,
   "metadata": {},
   "outputs": [
    {
     "name": "stdout",
     "output_type": "stream",
     "text": [
      "Number of one-time participants: 149\n"
     ]
    }
   ],
   "source": [
    "one_time_participants = participants[participants.num_workshops_visited == 1]\n",
    "num_one_time_participants = len(one_time_participants)\n",
    "\n",
    "print(\"Number of one-time participants:\", num_one_time_participants)"
   ]
  },
  {
   "cell_type": "markdown",
   "metadata": {},
   "source": [
    "### Trend of the attendance rates of the two main groups\n",
    "In the following, we calculate for every group the attendance rate for every workshop. I.e., we want to find out how many core group members and how many one-time participants attended every workshop. "
   ]
  },
  {
   "cell_type": "code",
   "execution_count": 6,
   "metadata": {},
   "outputs": [
    {
     "name": "stdout",
     "output_type": "stream",
     "text": [
      "Average attendance rate of the core group: 35.62179930262924\n",
      "Average attendance rate of one-time participants: 56.35354250431688\n"
     ]
    },
    {
     "data": {
      "text/html": [
       "<div>\n",
       "<style scoped>\n",
       "    .dataframe tbody tr th:only-of-type {\n",
       "        vertical-align: middle;\n",
       "    }\n",
       "\n",
       "    .dataframe tbody tr th {\n",
       "        vertical-align: top;\n",
       "    }\n",
       "\n",
       "    .dataframe thead th {\n",
       "        text-align: right;\n",
       "    }\n",
       "</style>\n",
       "<table border=\"1\" class=\"dataframe\">\n",
       "  <thead>\n",
       "    <tr style=\"text-align: right;\">\n",
       "      <th></th>\n",
       "      <th>num_core_group</th>\n",
       "      <th>num_one_time_participants</th>\n",
       "      <th>num_participants</th>\n",
       "      <th>rate_core_to_num_participants</th>\n",
       "      <th>rate_one_time_to_num_participants</th>\n",
       "    </tr>\n",
       "    <tr>\n",
       "      <th>workshop</th>\n",
       "      <th></th>\n",
       "      <th></th>\n",
       "      <th></th>\n",
       "      <th></th>\n",
       "      <th></th>\n",
       "    </tr>\n",
       "  </thead>\n",
       "  <tbody>\n",
       "    <tr>\n",
       "      <th>1</th>\n",
       "      <td>16</td>\n",
       "      <td>33</td>\n",
       "      <td>57</td>\n",
       "      <td>28.070175</td>\n",
       "      <td>57.894737</td>\n",
       "    </tr>\n",
       "    <tr>\n",
       "      <th>2</th>\n",
       "      <td>18</td>\n",
       "      <td>30</td>\n",
       "      <td>56</td>\n",
       "      <td>32.142857</td>\n",
       "      <td>53.571429</td>\n",
       "    </tr>\n",
       "    <tr>\n",
       "      <th>3</th>\n",
       "      <td>21</td>\n",
       "      <td>28</td>\n",
       "      <td>53</td>\n",
       "      <td>39.622642</td>\n",
       "      <td>52.830189</td>\n",
       "    </tr>\n",
       "    <tr>\n",
       "      <th>4</th>\n",
       "      <td>23</td>\n",
       "      <td>29</td>\n",
       "      <td>52</td>\n",
       "      <td>44.230769</td>\n",
       "      <td>55.769231</td>\n",
       "    </tr>\n",
       "    <tr>\n",
       "      <th>5</th>\n",
       "      <td>16</td>\n",
       "      <td>29</td>\n",
       "      <td>47</td>\n",
       "      <td>34.042553</td>\n",
       "      <td>61.702128</td>\n",
       "    </tr>\n",
       "  </tbody>\n",
       "</table>\n",
       "</div>"
      ],
      "text/plain": [
       "          num_core_group  num_one_time_participants  num_participants  \\\n",
       "workshop                                                                \n",
       "1                     16                         33                57   \n",
       "2                     18                         30                56   \n",
       "3                     21                         28                53   \n",
       "4                     23                         29                52   \n",
       "5                     16                         29                47   \n",
       "\n",
       "          rate_core_to_num_participants  rate_one_time_to_num_participants  \n",
       "workshop                                                                    \n",
       "1                             28.070175                          57.894737  \n",
       "2                             32.142857                          53.571429  \n",
       "3                             39.622642                          52.830189  \n",
       "4                             44.230769                          55.769231  \n",
       "5                             34.042553                          61.702128  "
      ]
     },
     "execution_count": 6,
     "metadata": {},
     "output_type": "execute_result"
    }
   ],
   "source": [
    "# Define attendance data and calculates corresponding attendance rates\n",
    "attendance_data = {\n",
    "    \"workshop\": [1, 2, 3, 4, 5],\n",
    "    \"num_participants\": workshops.num_participants.values,\n",
    "    \"num_core_group\": [\n",
    "        core_group[\"1\"].sum(),\n",
    "        core_group[\"2\"].sum(),\n",
    "        core_group[\"3\"].sum(),\n",
    "        core_group[\"4\"].sum(),\n",
    "        core_group[\"5\"].sum()],\n",
    "    \"num_one_time_participants\": [\n",
    "        one_time_participants[\"1\"].sum(),\n",
    "        one_time_participants[\"2\"].sum(),\n",
    "        one_time_participants[\"3\"].sum(),\n",
    "        one_time_participants[\"4\"].sum(),\n",
    "        one_time_participants[\"5\"].sum()]\n",
    "}\n",
    "attendance_data = pd.DataFrame(attendance_data)\n",
    "attendance_data[\"rate_core_to_num_participants\"] = attendance_data[\"num_core_group\"] / attendance_data[\"num_participants\"] * 100\n",
    "attendance_data[\"rate_one_time_to_num_participants\"] = attendance_data[\"num_one_time_participants\"] / attendance_data[\"num_participants\"] * 100\n",
    "attendance_data = attendance_data.set_index(\"workshop\")\n",
    "\n",
    "# Calculate the average attendance rate for every group\n",
    "average_attendance_rate_core = attendance_data[\"rate_core_to_num_participants\"].sum() / len(workshops)\n",
    "average_attendance_rate_one_time = attendance_data[\"rate_one_time_to_num_participants\"].sum() / len(workshops)\n",
    "\n",
    "print(\"Average attendance rate of the core group:\", average_attendance_rate_core)\n",
    "print(\"Average attendance rate of one-time participants:\", average_attendance_rate_one_time)\n",
    "attendance_data.head(5)"
   ]
  },
  {
   "cell_type": "code",
   "execution_count": 7,
   "metadata": {},
   "outputs": [
    {
     "data": {
      "image/png": "[encoded data removed]",
      "text/plain": [
       "<Figure size 432x288 with 1 Axes>"
      ]
     },
     "metadata": {},
     "output_type": "display_data"
    }
   ],
   "source": [
    "# Plot rates trend\n",
    "%matplotlib inline\n",
    "attendance_rate_data = attendance_data.drop(columns=[\"num_core_group\", \"num_one_time_participants\", \"num_participants\"])\n",
    "ax = attendance_rate_data.plot.line()\n",
    "\n",
    "# Adjust x and y axis as well as the legend\n",
    "ax.set_xbound(0.5, 5.5)\n",
    "ax.set_xticks([1, 2, 3, 4, 5])\n",
    "ax.set_xlabel(\"Workshop\")\n",
    "ax.set_ybound(15, 70)\n",
    "ax.set_ylabel(\"Attendance Rate [%]\")\n",
    "ax.legend([\"Core group\", \"One-time participants\"], loc=\"upper left\")\n",
    "\n",
    "# Print values\n",
    "for index, value in enumerate(attendance_rate_data[\"rate_core_to_num_participants\"]):\n",
    "    ax.text(index + 1, value, str(round(value, 2)) + \"%\")\n",
    "for index, value in enumerate(attendance_rate_data[\"rate_one_time_to_num_participants\"]):\n",
    "    ax.text(index + 1, value, str(round(value, 2)) + \"%\")"
   ]
  },
  {
   "cell_type": "markdown",
   "metadata": {},
   "source": [
    "### How many participants attended the next workshop as well?"
   ]
  },
  {
   "cell_type": "code",
   "execution_count": 8,
   "metadata": {
    "scrolled": true
   },
   "outputs": [
    {
     "data": {
      "text/html": [
       "<div>\n",
       "<style scoped>\n",
       "    .dataframe tbody tr th:only-of-type {\n",
       "        vertical-align: middle;\n",
       "    }\n",
       "\n",
       "    .dataframe tbody tr th {\n",
       "        vertical-align: top;\n",
       "    }\n",
       "\n",
       "    .dataframe thead th {\n",
       "        text-align: right;\n",
       "    }\n",
       "</style>\n",
       "<table border=\"1\" class=\"dataframe\">\n",
       "  <thead>\n",
       "    <tr style=\"text-align: right;\">\n",
       "      <th></th>\n",
       "      <th>num_attended_next</th>\n",
       "      <th>num_participants</th>\n",
       "      <th>attended_next_rate</th>\n",
       "    </tr>\n",
       "    <tr>\n",
       "      <th>workshop</th>\n",
       "      <th></th>\n",
       "      <th></th>\n",
       "      <th></th>\n",
       "    </tr>\n",
       "  </thead>\n",
       "  <tbody>\n",
       "    <tr>\n",
       "      <th>1</th>\n",
       "      <td>20</td>\n",
       "      <td>57</td>\n",
       "      <td>35.087719</td>\n",
       "    </tr>\n",
       "    <tr>\n",
       "      <th>2</th>\n",
       "      <td>15</td>\n",
       "      <td>56</td>\n",
       "      <td>26.785714</td>\n",
       "    </tr>\n",
       "    <tr>\n",
       "      <th>3</th>\n",
       "      <td>16</td>\n",
       "      <td>53</td>\n",
       "      <td>30.188679</td>\n",
       "    </tr>\n",
       "    <tr>\n",
       "      <th>4</th>\n",
       "      <td>13</td>\n",
       "      <td>52</td>\n",
       "      <td>25.000000</td>\n",
       "    </tr>\n",
       "  </tbody>\n",
       "</table>\n",
       "</div>"
      ],
      "text/plain": [
       "          num_attended_next  num_participants  attended_next_rate\n",
       "workshop                                                         \n",
       "1                        20                57           35.087719\n",
       "2                        15                56           26.785714\n",
       "3                        16                53           30.188679\n",
       "4                        13                52           25.000000"
      ]
     },
     "execution_count": 8,
     "metadata": {},
     "output_type": "execute_result"
    }
   ],
   "source": [
    "# Define the attended next data\n",
    "attended_next_data = {\n",
    "    \"workshop\": [1, 2, 3, 4],\n",
    "    \"num_attended_next\": [\n",
    "        len(participants[(participants[\"1\"] == True) & (participants[\"2\"] == True)]),\n",
    "        len(participants[(participants[\"2\"] == True) & (participants[\"3\"] == True)]),\n",
    "        len(participants[(participants[\"3\"] == True) & (participants[\"4\"] == True)]),\n",
    "        len(participants[(participants[\"4\"] == True) & (participants[\"5\"] == True)]),\n",
    "    ],\n",
    "    \"num_participants\": workshops.num_participants.values[:-1]\n",
    "}\n",
    "attended_next_data = pd.DataFrame(attended_next_data)\n",
    "attended_next_data[\"attended_next_rate\"] = attended_next_data[\"num_attended_next\"] / attended_next_data[\"num_participants\"] * 100\n",
    "attended_next_data = attended_next_data.set_index(\"workshop\")\n",
    "\n",
    "attended_next_data.head(5)"
   ]
  },
  {
   "cell_type": "code",
   "execution_count": 9,
   "metadata": {},
   "outputs": [
    {
     "data": {
      "image/png": "[encoded data removed]",
      "text/plain": [
       "<Figure size 648x360 with 1 Axes>"
      ]
     },
     "metadata": {},
     "output_type": "display_data"
    }
   ],
   "source": [
    "# Plot the attended next data\n",
    "attended_next_plot = attended_next_data.drop(columns=[\"attended_next_rate\"])\n",
    "attended_next_plot = attended_next_plot[[\"num_participants\", \"num_attended_next\"]] # Ensure the right column order\n",
    "ax = attended_next_plot.plot.bar(figsize=(9, 5))\n",
    "ax.set_xlabel(\"Workshop\")\n",
    "ax.set_ylabel(\"Number of participants\")\n",
    "ax.set_ybound(0, 60)\n",
    "ax.legend([\"Total number of participants\", \"Number of participants attending the next workshop\"])\n",
    "\n",
    "# Print attended next rate values\n",
    "num_pairs = 4\n",
    "attended_next_rates = [\"{}%\".format(int(value)) for value in attended_next_data.attended_next_rate.values]\n",
    "make_pairs = zip(*[ax.get_children()[:num_pairs], ax.get_children()[num_pairs:num_pairs*2]])\n",
    "for index, (left, right) in enumerate(make_pairs):\n",
    "    ax.text(index + 0.15, min(left.get_bbox().y1, right.get_bbox().y1) + 1, attended_next_rates[index], horizontalalignment=\"center\")"
   ]
  },
  {
   "cell_type": "markdown",
   "metadata": {},
   "source": [
    "## Analysis of the attendance origin location\n",
    "In the following we analyse the origin locations of the workshop participants and how it influences their attendance."
   ]
  },
  {
   "cell_type": "markdown",
   "metadata": {},
   "source": [
    "### Where do the participants of the workshop series origin from?"
   ]
  },
  {
   "cell_type": "code",
   "execution_count": 10,
   "metadata": {},
   "outputs": [
    {
     "data": {
      "text/plain": [
       "OP    73\n",
       "BS    71\n",
       "BA    35\n",
       "KP    22\n",
       "ST    13\n",
       "GO    12\n",
       "HB    10\n",
       "BO     7\n",
       "NZ     5\n",
       "Name: location, dtype: int64"
      ]
     },
     "execution_count": 10,
     "metadata": {},
     "output_type": "execute_result"
    }
   ],
   "source": [
    "# Count the amount of participants of the workshop series per location\n",
    "location_distribution = locations.location.value_counts()\n",
    "location_distribution_filt = location_distribution[location_distribution >= 5]\n",
    "location_distribution_filt"
   ]
  },
  {
   "cell_type": "code",
   "execution_count": 11,
   "metadata": {},
   "outputs": [
    {
     "data": {
      "image/png": "[encoded data removed]",
      "text/plain": [
       "<Figure size 720x504 with 1 Axes>"
      ]
     },
     "metadata": {},
     "output_type": "display_data"
    }
   ],
   "source": [
    "# Plot the locatio dictribution data\n",
    "ax = location_distribution_filt.plot(kind='bar', figsize=(10,7),\n",
    "                                        fontsize=13);\n",
    "ax.set_xlabel(\"Locations\")\n",
    "ax.set_ylabel(\"Number of Participants\");\n",
    "\n",
    "# set individual bar lables using above list\n",
    "for i in ax.patches:\n",
    "    # get_x pulls left or right; get_height pushes up or down\n",
    "    ax.text(i.get_x()+0.1, i.get_height()+1, \\\n",
    "            str(i.get_height()))"
   ]
  },
  {
   "cell_type": "markdown",
   "metadata": {},
   "source": [
    "### Do more people attend a workshop if it is run at their location?"
   ]
  },
  {
   "cell_type": "code",
   "execution_count": 37,
   "metadata": {},
   "outputs": [
    {
     "data": {
      "text/html": [
       "<div>\n",
       "<style scoped>\n",
       "    .dataframe tbody tr th:only-of-type {\n",
       "        vertical-align: middle;\n",
       "    }\n",
       "\n",
       "    .dataframe tbody tr th {\n",
       "        vertical-align: top;\n",
       "    }\n",
       "\n",
       "    .dataframe thead th {\n",
       "        text-align: right;\n",
       "    }\n",
       "</style>\n",
       "<table border=\"1\" class=\"dataframe\">\n",
       "  <thead>\n",
       "    <tr style=\"text-align: right;\">\n",
       "      <th></th>\n",
       "      <th>WS 1: Braunschweig (BS)</th>\n",
       "      <th>WS 2: Cologne (KP)</th>\n",
       "      <th>WS 3: Oberpfaffenhofen (OP)</th>\n",
       "      <th>WS 4: Berlin (BA)</th>\n",
       "      <th>WS 5: Bremen (HB)</th>\n",
       "    </tr>\n",
       "  </thead>\n",
       "  <tbody>\n",
       "    <tr>\n",
       "      <th>BS</th>\n",
       "      <td>27.0</td>\n",
       "      <td>14.0</td>\n",
       "      <td>6.0</td>\n",
       "      <td>13.0</td>\n",
       "      <td>11.0</td>\n",
       "    </tr>\n",
       "    <tr>\n",
       "      <th>KP</th>\n",
       "      <td>2.0</td>\n",
       "      <td>17.0</td>\n",
       "      <td>NaN</td>\n",
       "      <td>1.0</td>\n",
       "      <td>2.0</td>\n",
       "    </tr>\n",
       "    <tr>\n",
       "      <th>OP</th>\n",
       "      <td>10.0</td>\n",
       "      <td>8.0</td>\n",
       "      <td>34.0</td>\n",
       "      <td>12.0</td>\n",
       "      <td>9.0</td>\n",
       "    </tr>\n",
       "    <tr>\n",
       "      <th>BA</th>\n",
       "      <td>4.0</td>\n",
       "      <td>8.0</td>\n",
       "      <td>4.0</td>\n",
       "      <td>16.0</td>\n",
       "      <td>3.0</td>\n",
       "    </tr>\n",
       "    <tr>\n",
       "      <th>HB</th>\n",
       "      <td>NaN</td>\n",
       "      <td>1.0</td>\n",
       "      <td>1.0</td>\n",
       "      <td>1.0</td>\n",
       "      <td>7.0</td>\n",
       "    </tr>\n",
       "  </tbody>\n",
       "</table>\n",
       "</div>"
      ],
      "text/plain": [
       "    WS 1: Braunschweig (BS)  WS 2: Cologne (KP)  WS 3: Oberpfaffenhofen (OP)  \\\n",
       "BS                     27.0                14.0                          6.0   \n",
       "KP                      2.0                17.0                          NaN   \n",
       "OP                     10.0                 8.0                         34.0   \n",
       "BA                      4.0                 8.0                          4.0   \n",
       "HB                      NaN                 1.0                          1.0   \n",
       "\n",
       "    WS 4: Berlin (BA)  WS 5: Bremen (HB)  \n",
       "BS               13.0               11.0  \n",
       "KP                1.0                2.0  \n",
       "OP               12.0                9.0  \n",
       "BA               16.0                3.0  \n",
       "HB                1.0                7.0  "
      ]
     },
     "execution_count": 37,
     "metadata": {},
     "output_type": "execute_result"
    }
   ],
   "source": [
    "# From which locations are the participants for each workshop?\n",
    "location_distribution_per_ws = pd.DataFrame({\"WS 1: Braunschweig (BS)\": locations_ws1.location.value_counts(),\n",
    "                                       \"WS 2: Cologne (KP)\": locations_ws2.location.value_counts(),\n",
    "                                       \"WS 3: Oberpfaffenhofen (OP)\": locations_ws3.location.value_counts(),\n",
    "                                       \"WS 4: Berlin (BA)\": locations_ws4.location.value_counts(),\n",
    "                                       \"WS 5: Bremen (HB)\": locations_ws5.location.value_counts()})\n",
    "\n",
    "\n",
    "    \n",
    "# Filter chart down to locations where a workshop took place\n",
    "location_distribution_per_ws_filtered = location_distribution_per_ws.loc[['BS', 'KP', 'OP', 'BA', 'HB']]\n",
    "\n",
    "location_distribution_per_ws_filtered.head()"
   ]
  },
  {
   "cell_type": "code",
   "execution_count": 38,
   "metadata": {},
   "outputs": [
    {
     "data": {
      "image/png": "[encoded data removed]",
      "text/plain": [
       "<Figure size 720x504 with 1 Axes>"
      ]
     },
     "metadata": {},
     "output_type": "display_data"
    }
   ],
   "source": [
    "# plot data\n",
    "ax = location_distribution_per_ws_filtered.plot(kind='bar', figsize=(10,7),\n",
    "                                        fontsize=13)\n",
    "ax.set_xlabel(\"Origin location of participants\")\n",
    "ax.set_ylabel(\"Number of participants\");"
   ]
  },
  {
   "cell_type": "markdown",
   "metadata": {},
   "source": [
    "### How many more people attend a workshop if it is run at their location?"
   ]
  },
  {
   "cell_type": "code",
   "execution_count": 39,
   "metadata": {},
   "outputs": [
    {
     "name": "stdout",
     "output_type": "stream",
     "text": [
      "The workshop in BS was visited by 16.0 more participants from BS than an average external one.\n",
      "The workshop in BS was visited by 2.4545454545454546 times more participants from BS than an average external one.\n",
      "\n",
      "The workshop in KP was visited by 15.75 more participants from KP than an average external one.\n",
      "The workshop in KP was visited by 13.6 times more participants from KP than an average external one.\n",
      "\n",
      "The workshop in OP was visited by 24.25 more participants from OP than an average external one.\n",
      "The workshop in OP was visited by 3.4871794871794872 times more participants from OP than an average external one.\n",
      "\n",
      "The workshop in BA was visited by 11.25 more participants from BA than an average external one.\n",
      "The workshop in BA was visited by 3.3684210526315788 times more participants from BA than an average external one.\n",
      "\n",
      "The workshop in HB was visited by 6.25 more participants from HB than an average external one.\n",
      "The workshop in HB was visited by 9.333333333333334 times more participants from HB than an average external one.\n",
      "\n"
     ]
    }
   ],
   "source": [
    "# Calculate factor of which the number of participants increase when the workshop is run in that location in comparison to external workshops\n",
    "\n",
    "def calc_factor(location):\n",
    "    local_ws = location_distribution_per_ws.loc[location].max() # Max can be used since all local workshops were visited by the most participants in comparison to external workshops\n",
    "    external_ws = location_distribution_per_ws.loc[location].sum() - local_ws\n",
    "    external_ws_avg = (external_ws / 4)\n",
    "    diff = local_ws - external_ws_avg\n",
    "    factor = local_ws / external_ws_avg\n",
    "    print (\"The workshop in\", location, \"was visited by\", diff, \"more participants from\", location, \"than an average external one.\")\n",
    "    print (\"The workshop in\", location, \"was visited by\", factor, \"times more participants from\", location, \"than an average external one.\\n\")\n",
    "\n",
    "for location in locations.index.levels[0]:\n",
    "    calc_factor(location)"
   ]
  },
  {
   "cell_type": "markdown",
   "metadata": {},
   "source": [
    "## Analysis of the relation between one-time participants and origin location\n",
    "More people attend a workshop if it is run at their origin location. The resulting question is: Are those the one-time participants we identified earlier? What seems to be more important: The topic or the location."
   ]
  },
  {
   "cell_type": "markdown",
   "metadata": {},
   "source": [
    "### Do one-time participants attend local or external workshops?"
   ]
  },
  {
   "cell_type": "code",
   "execution_count": 44,
   "metadata": {},
   "outputs": [
    {
     "data": {
      "text/plain": [
       "33"
      ]
     },
     "execution_count": 44,
     "metadata": {},
     "output_type": "execute_result"
    },
    {
     "data": {
      "image/png": "[encoded data removed]",
      "text/plain": [
       "<Figure size 720x504 with 1 Axes>"
      ]
     },
     "metadata": {},
     "output_type": "display_data"
    }
   ],
   "source": [
    "one_time = []\n",
    "one_time_local = []\n",
    "local = []\n",
    "\n",
    "for location in locations.index.levels[0]:\n",
    "    location_data = locations.loc[location]\n",
    "    one_time.append(location_data.one_time_participant.value_counts()[True])\n",
    "    one_time_local.append(location_data[location_data.location == location].one_time_participant.value_counts()[True])\n",
    "    local.append(len(location_data[location_data.location == location]))\n",
    "    \n",
    "local_one_timers = pd.DataFrame({\"Workshop\": [1, 2, 3, 4, 5],\n",
    "                                 \"#Local Participant\": local,\n",
    "                                 \"#One-Time Participant\": one_time, \n",
    "                                 \"#Local One-Time Participant\": one_time_local})\n",
    "local_one_timers = local_one_timers.set_index(\"Workshop\")\n",
    "\n",
    "# plot data\n",
    "ax = local_one_timers.plot(kind='bar', figsize=(10,7),\n",
    "                                        fontsize=13)\n",
    "ax.set_xlabel(\"Workshop\")\n",
    "ax.set_ylabel(\"Number of participants\");\n",
    "\n",
    "locations_ws1[locations_ws1.location == \"BS\"].one_time_participant.value_counts()[True]\n",
    "locations_ws1.one_time_participant.value_counts()[True]"
   ]
  },
  {
   "cell_type": "code",
   "execution_count": null,
   "metadata": {},
   "outputs": [],
   "source": []
  }
 ],
 "metadata": {
  "kernelspec": {
   "display_name": "Python 3",
   "language": "python",
   "name": "python3"
  },
  "language_info": {
   "codemirror_mode": {
    "name": "ipython",
    "version": 3
   },
   "file_extension": ".py",
   "mimetype": "text/x-python",
   "name": "python",
   "nbconvert_exporter": "python",
   "pygments_lexer": "ipython3",
   "version": "3.6.5"
  }
 },
 "nbformat": 4,
 "nbformat_minor": 2
}
